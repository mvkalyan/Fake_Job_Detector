{
 "cells": [
  {
   "cell_type": "code",
   "execution_count": null,
   "id": "d2dde7f8-5ab6-4894-be5a-a152e6857706",
   "metadata": {},
   "outputs": [],
   "source": [
    "import pandas as pd\n",
    " \n",
    "# Load the CSV (adjust the path if needed)\n",
    "df = pd.read_csv('fraud_jobs_train.csv')\n",
    " \n",
    "# Show first 5 rows\n",
    "df.head()"
   ]
  },
  {
   "cell_type": "code",
   "execution_count": null,
   "id": "98b44b39-136c-4daf-b502-d84eda79b3ba",
   "metadata": {},
   "outputs": [],
   "source": [
    "df.isnull().sum()"
   ]
  },
  {
   "cell_type": "code",
   "execution_count": null,
   "id": "ef101b80-12f1-4f07-89bd-decfce82be9b",
   "metadata": {},
   "outputs": [],
   "source": [
    "df = df.dropna(subset=['description'])"
   ]
  },
  {
   "cell_type": "code",
   "execution_count": null,
   "id": "2557b600-2403-4ff3-8683-9ca21db0b5e4",
   "metadata": {},
   "outputs": [],
   "source": [
    "text_columns = ['company_profile', 'benefits', 'requirements']\n",
    " \n",
    "for col in text_columns:\n",
    "    df[col] = df[col].fillna('')"
   ]
  },
  {
   "cell_type": "code",
   "execution_count": null,
   "id": "a1cac488-97d9-46fe-a27c-e3512a7b8f60",
   "metadata": {},
   "outputs": [],
   "source": [
    "df['text'] = df['title'] + ' ' + df['company_profile'] + ' ' + df['description'] + ' ' + df['requirements'] + ' ' + df['benefits']"
   ]
  },
  {
   "cell_type": "code",
   "execution_count": null,
   "id": "7f0b5857-0544-449b-8849-680c0bfacb80",
   "metadata": {},
   "outputs": [],
   "source": [
    "df['text'].iloc[0]"
   ]
  },
  {
   "cell_type": "code",
   "execution_count": null,
   "id": "e8f98148-6df5-4c57-ac6f-d3f53455f14b",
   "metadata": {},
   "outputs": [],
   "source": [
    "from sklearn.feature_extraction.text import TfidfVectorizer\n",
    " \n",
    "# Create the vectorizer\n",
    "vectorizer = TfidfVectorizer(stop_words='english', max_features=5000)\n",
    " \n",
    "# Transform the text column into numbers\n",
    "X = vectorizer.fit_transform(df['text'])"
   ]
  },
  {
   "cell_type": "code",
   "execution_count": null,
   "id": "0917d2ad-04f1-480f-905a-03ae6c633756",
   "metadata": {},
   "outputs": [],
   "source": [
    "y = df['fraudulent']"
   ]
  },
  {
   "cell_type": "code",
   "execution_count": null,
   "id": "ac2ce73a-d21c-4971-a78e-e55ba5198e0c",
   "metadata": {},
   "outputs": [],
   "source": [
    "from sklearn.model_selection import train_test_split\n",
    "from sklearn.ensemble import RandomForestClassifier\n",
    "from sklearn.metrics import classification_report, confusion_matrix, f1_score"
   ]
  },
  {
   "cell_type": "code",
   "execution_count": null,
   "id": "f6b2437a-88eb-4671-bd34-e364aa22b76c",
   "metadata": {},
   "outputs": [],
   "source": [
    "X_train, X_test, y_train, y_test = train_test_split(\n",
    "    X, y, test_size=0.2, random_state=42, stratify=y\n",
    ")"
   ]
  },
  {
   "cell_type": "code",
   "execution_count": null,
   "id": "738d5ed4-b8d1-42fe-a9b7-bd479d768eaf",
   "metadata": {},
   "outputs": [],
   "source": [
    "model = RandomForestClassifier(n_estimators=100, random_state=42, class_weight='balanced')\n",
    "model.fit(X_train, y_train)"
   ]
  },
  {
   "cell_type": "code",
   "execution_count": null,
   "id": "aded1a48-967b-4bc6-bbad-9b260ae048f2",
   "metadata": {},
   "outputs": [],
   "source": [
    "y_pred = model.predict(X_test)\n",
    "y_proba = model.predict_proba(X_test)[:, 1]  # Fraud probability\n",
    " \n",
    "print(\"F1 Score:\", f1_score(y_test, y_pred))\n",
    "print(\"\\nClassification Report:\\n\", classification_report(y_test, y_pred))\n",
    "print(\"\\nConfusion Matrix:\\n\", confusion_matrix(y_test, y_pred))"
   ]
  },
  {
   "cell_type": "code",
   "execution_count": null,
   "id": "268284d9-cc49-44ef-89f6-05fdd0be0d83",
   "metadata": {},
   "outputs": [],
   "source": [
    "import pandas as pd\n",
    " \n",
    "# Convert X_test (sparse) to DataFrame\n",
    "X_test_dense = pd.DataFrame(X_test.toarray(), columns=vectorizer.get_feature_names_out())\n",
    " \n",
    "# Add predictions and probabilities\n",
    "X_test_dense[\"predicted_label\"] = y_pred\n",
    "X_test_dense[\"fraud_probability\"] = y_proba\n",
    " \n",
    "# Save to CSV\n",
    "X_test_dense.to_csv(\"predictions.csv\", index=False)\n",
    " \n",
    "X_test_dense.head()"
   ]
  },
  {
   "cell_type": "code",
   "execution_count": null,
   "id": "b1265fee-9bfe-4438-8540-1879fb726033",
   "metadata": {},
   "outputs": [],
   "source": [
    "from sklearn.model_selection import GridSearchCV\n",
    " \n",
    "param_grid = {\n",
    "    'n_estimators': [100, 200],\n",
    "    'max_depth': [None, 20, 50],\n",
    "    'min_samples_split': [2, 5],\n",
    "    'min_samples_leaf': [1, 2],\n",
    "    'class_weight': ['balanced']\n",
    "}\n",
    " \n",
    "grid_search = GridSearchCV(\n",
    "    RandomForestClassifier(random_state=42),\n",
    "    param_grid,\n",
    "    scoring='f1',\n",
    "    cv=3,\n",
    "    n_jobs=-1\n",
    ")\n",
    " \n",
    "grid_search.fit(X_train, y_train)\n",
    "best_model = grid_search.best_estimator_"
   ]
  },
  {
   "cell_type": "code",
   "execution_count": null,
   "id": "fb0db89a-63bb-4276-89e5-832d4c3384ae",
   "metadata": {},
   "outputs": [],
   "source": [
    "y_pred = best_model.predict(X_test)\n",
    "f1_score(y_test, y_pred)"
   ]
  },
  {
   "cell_type": "code",
   "execution_count": null,
   "id": "1a0af6ed-3b00-4b7c-be80-83b239e26680",
   "metadata": {},
   "outputs": [],
   "source": [
    "print(\"F1 Score:\", f1_score(y_test, y_pred))\n",
    "print(\"\\nClassification Report:\\n\", classification_report(y_test, y_pred))\n",
    "print(\"\\nConfusion Matrix:\\n\", confusion_matrix(y_test, y_pred))"
   ]
  },
  {
   "cell_type": "code",
   "execution_count": null,
   "id": "ca3cb6d5-dcd0-4eaa-88fe-c813d4c35357",
   "metadata": {},
   "outputs": [],
   "source": [
    "# Save the indices of the original dataframe\n",
    "original_indices = df.index"
   ]
  },
  {
   "cell_type": "code",
   "execution_count": null,
   "id": "86365284-476a-466b-a7d5-2e71106a1199",
   "metadata": {},
   "outputs": [],
   "source": [
    "from sklearn.model_selection import train_test_split\n",
    " \n",
    "# Split X and y as usual, but also split original indices\n",
    "X_train, X_test, y_train, y_test, idx_train, idx_test = train_test_split(\n",
    "    X, y, original_indices, test_size=0.2, stratify=y, random_state=42\n",
    ")"
   ]
  },
  {
   "cell_type": "code",
   "execution_count": null,
   "id": "c1459e56-97c6-453f-9c42-1bba03a4532c",
   "metadata": {},
   "outputs": [],
   "source": [
    "final_df = pd.DataFrame()\n",
    "final_df[\"Job_Title\"] = df.loc[idx_test, \"title\"].values\n",
    "final_df[\"Company\"] = df.loc[idx_test, \"company_profile\"].values\n",
    "final_df[\"Description\"] = df.loc[idx_test, \"description\"].values\n",
    "final_df[\"Fraud_Probability\"] = y_proba\n",
    "final_df[\"Predicted_Label\"] = y_pred"
   ]
  },
  {
   "cell_type": "code",
   "execution_count": null,
   "id": "b86045c1-ed0c-47ed-969d-8ebae2def2ad",
   "metadata": {},
   "outputs": [],
   "source": [
    "final_df.head()"
   ]
  },
  {
   "cell_type": "code",
   "execution_count": null,
   "id": "8db785f4-0f57-4d83-9ab7-92469c6eea5b",
   "metadata": {},
   "outputs": [],
   "source": [
    "final_df.to_csv(\"job_fraud_predictions.csv\", index=False)"
   ]
  },
  {
   "cell_type": "code",
   "execution_count": null,
   "id": "f7bc2661-b2e8-4a2f-b261-d805ed031237",
   "metadata": {},
   "outputs": [],
   "source": [
    "!pip install wordcloud"
   ]
  },
  {
   "cell_type": "code",
   "execution_count": null,
   "id": "0b6eb57d-41d7-46b8-91fb-4a21037fb6a0",
   "metadata": {},
   "outputs": [],
   "source": [
    "import matplotlib.pyplot as plt\n",
    "import seaborn as sns\n",
    "from wordcloud import WordCloud"
   ]
  },
  {
   "cell_type": "code",
   "execution_count": null,
   "id": "c3cc4217-2a61-4a94-957e-1eed5a384a9e",
   "metadata": {},
   "outputs": [],
   "source": [
    "plt.figure(figsize=(6, 4))\n",
    "sns.countplot(data=final_df, x=\"Predicted_Label\", palette=[\"green\", \"red\"])\n",
    "plt.title(\"Predicted Job Posting Types\")\n",
    "plt.xlabel(\"Label (0 = Real, 1 = Fraud)\")\n",
    "plt.ylabel(\"Count\")\n",
    "plt.xticks([0, 1], [\"Real\", \"Fraudulent\"])\n",
    "plt.show()"
   ]
  },
  {
   "cell_type": "code",
   "execution_count": null,
   "id": "a961ccf7-17fa-4c5c-95de-28a098911255",
   "metadata": {},
   "outputs": [],
   "source": []
  },
  {
   "cell_type": "code",
   "execution_count": null,
   "id": "a3537000-4f86-4e2b-a30b-8efa43d2bb3c",
   "metadata": {},
   "outputs": [],
   "source": [
    "sns.countplot(data=final_df, x=\"Predicted_Label\", hue=\"Predicted_Label\", palette=[\"green\", \"red\"], legend=False)"
   ]
  },
  {
   "cell_type": "code",
   "execution_count": null,
   "id": "e3040da7-d14a-4c6d-8c48-c6917fb10423",
   "metadata": {},
   "outputs": [],
   "source": [
    "top_frauds = final_df.sort_values(by=\"Fraud_Probability\", ascending=False).head(10)\n",
    " \n",
    "plt.figure(figsize=(10, 6))\n",
    "sns.barplot(x=\"Fraud_Probability\", y=\"Job_Title\", data=top_frauds, palette=\"Reds_r\")\n",
    "plt.title(\"Top 10 Most Suspicious Job Postings\")\n",
    "plt.xlabel(\"Fraud Probability\")\n",
    "plt.ylabel(\"Job Title\")\n",
    "plt.show()"
   ]
  },
  {
   "cell_type": "code",
   "execution_count": null,
   "id": "cc9bcb71-b3eb-435c-ba73-ab93243a3251",
   "metadata": {},
   "outputs": [],
   "source": [
    "# Filter fraudulent jobs\n",
    "fraud_jobs = final_df[final_df[\"Predicted_Label\"] == 1]\n",
    " \n",
    "# Join all descriptions into one big string\n",
    "text = \" \".join(fraud_jobs[\"Description\"].dropna().astype(str).values)\n",
    " \n",
    "wordcloud = WordCloud(width=800, height=400, background_color='white').generate(text)\n",
    " \n",
    "plt.figure(figsize=(12, 6))\n",
    "plt.imshow(wordcloud, interpolation='bilinear')\n",
    "plt.axis(\"off\")\n",
    "plt.title(\"Common Words in Fraudulent Job Descriptions\")\n",
    "plt.show()"
   ]
  },
  {
   "cell_type": "code",
   "execution_count": null,
   "id": "f7330d12-a92c-4af7-bc2b-18c73367363d",
   "metadata": {},
   "outputs": [],
   "source": [
    "from sklearn.metrics import confusion_matrix\n",
    " \n",
    "cm = confusion_matrix(y_test, y_pred)\n",
    " \n",
    "plt.figure(figsize=(5, 4))\n",
    "sns.heatmap(cm, annot=True, fmt='d', cmap=\"Blues\", xticklabels=[\"Real\", \"Fraud\"], yticklabels=[\"Real\", \"Fraud\"])\n",
    "plt.xlabel(\"Predicted\")\n",
    "plt.ylabel(\"Actual\")\n",
    "plt.title(\"Confusion Matrix\")\n",
    "plt.show()"
   ]
  },
  {
   "cell_type": "code",
   "execution_count": null,
   "id": "16a34fae-5327-4437-bc18-108247df5ae8",
   "metadata": {},
   "outputs": [],
   "source": [
    "import joblib\n",
    " \n",
    "joblib.dump(model, \"random_forest_model.pkl\")\n",
    "joblib.dump(vectorizer, \"tfidf_vectorizer.pkl\")"
   ]
  },
  {
   "cell_type": "code",
   "execution_count": null,
   "id": "17548a5a-645c-4b5e-9463-021770c6efcd",
   "metadata": {},
   "outputs": [],
   "source": []
  }
 ],
 "metadata": {
  "kernelspec": {
   "display_name": "Python 3 (ipykernel)",
   "language": "python",
   "name": "python3"
  },
  "language_info": {
   "codemirror_mode": {
    "name": "ipython",
    "version": 3
   },
   "file_extension": ".py",
   "mimetype": "text/x-python",
   "name": "python",
   "nbconvert_exporter": "python",
   "pygments_lexer": "ipython3",
   "version": "3.12.7"
  }
 },
 "nbformat": 4,
 "nbformat_minor": 5
}
